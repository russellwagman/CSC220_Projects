{
  "nbformat": 4,
  "nbformat_minor": 0,
  "metadata": {
    "colab": {
      "provenance": [],
      "include_colab_link": true
    },
    "kernelspec": {
      "name": "python3",
      "display_name": "Python 3"
    },
    "language_info": {
      "name": "python"
    }
  },
  "cells": [
    {
      "cell_type": "markdown",
      "metadata": {
        "id": "view-in-github",
        "colab_type": "text"
      },
      "source": [
        "<a href=\"https://colab.research.google.com/github/russellwagman/CSC_Projects/blob/main/ProblemSet2Fall23.ipynb\" target=\"_parent\"><img src=\"https://colab.research.google.com/assets/colab-badge.svg\" alt=\"Open In Colab\"/></a>"
      ]
    },
    {
      "cell_type": "markdown",
      "source": [
        "# Problem Set 2"
      ],
      "metadata": {
        "id": "mBNeUepYu0i4"
      }
    },
    {
      "cell_type": "markdown",
      "source": [
        "## Assignment 1 (35 points)\n",
        "\n",
        "### 1.a\n",
        "Define a class named `Student`. `Student` has two attributes:\n",
        "* name (str)\n",
        "* number (str)\n",
        "\n",
        "Create two student objects out of this class.\n",
        "\n",
        "The objects will be:\n",
        "- name: `James Bond`, number: `007`\n",
        "- name: `Clark Kent`, number: `333`\n",
        "\n",
        "Print their names.\n",
        "```\n",
        "Expected Output:\n",
        "James Bond\n",
        "Clark Kent\n",
        "```\n",
        "\n",
        "### 1.b\n",
        "\n",
        "The `Student` class you defined above has a new attribute.\n",
        "\n",
        "This attribute is `courses` and it will keep the list of courses that the student takes.\n",
        "\n",
        "Its type is list and it will initialize as an empty list.\n",
        "There will be a method named 'enroll' to enroll the course.\n",
        "The student will enroll the course, if it has not enrolled already.\n",
        "Moreover, there will be a method named 'get_courses' which will return the course list.\n",
        "\n",
        "Redefine the `Student` class based on these information.\n",
        "\n",
        "Student data:\n",
        "* name: `John Doe`, number: `1111`\n",
        "* courses:\n",
        "    * BTE320\n",
        "    * BTE401\n",
        "\n",
        "```\n",
        "Expected Output:\n",
        "student.get_courses()  ->  ['BTE320', 'BTE401']\n",
        "```"
      ],
      "metadata": {
        "id": "Q77cuWpIu16Z"
      }
    },
    {
      "cell_type": "code",
      "execution_count": null,
      "metadata": {
        "id": "ZXaXA_QluoG6",
        "colab": {
          "base_uri": "https://localhost:8080/"
        },
        "outputId": "00e6eed7-f05b-4a52-8a30-1a800aae0315"
      },
      "outputs": [
        {
          "output_type": "stream",
          "name": "stdout",
          "text": [
            "James Bond\n",
            "Clark Kent\n",
            "student.get_courses() -> ['BTE320', 'BTE401']\n"
          ]
        }
      ],
      "source": [
        "class Student:\n",
        "  def __init__(self, name, number):\n",
        "    self.name = name\n",
        "    self.number = number\n",
        "    self.courses = []\n",
        "  def enroll(self, course):\n",
        "    if course not in self.courses:\n",
        "     self.courses.append(course)\n",
        "  def get_courses(self):\n",
        "    print(\"student.get_courses() -> \" + str(self.courses))\n",
        "\n",
        "StuA = Student(\"James Bond\", \"007\")\n",
        "StuB = Student(\"Clark Kent\", \"333\")\n",
        "StuC = Student(\"John Doe\", \"1111\")\n",
        "print(StuA.name)\n",
        "print(StuB.name)\n",
        "StuC.enroll(\"BTE320\")\n",
        "StuC.enroll(\"BTE401\")\n",
        "StuC.enroll(\"BTE320\")\n",
        "StuC.get_courses()\n",
        "\n",
        "\n"
      ]
    },
    {
      "cell_type": "markdown",
      "source": [
        "## Assignment 2 (45 points)\n",
        "\n",
        "### 2.a\n",
        "Define a class named `Point`.\n",
        "\n",
        "It will represent a point in x-y coordinate space.\n",
        "\n",
        "Attributes:\n",
        "    * `x (int)`\n",
        "    * `y (int)`\n",
        "\n",
        "It will have a method named `distance` which calculates the distance between two Points.\n",
        "\n",
        "\n",
        "Hints:\n",
        "* to calculate distance (d):\n",
        "    * get the difference between x values (x_diff)\n",
        "    * get the difference between y values (y_diff)\n",
        "    * `d = math.sqrt(x_diff**2 + y_diff**2)`\n",
        "\n",
        "```\n",
        "Expected Output:\n",
        "p_1 -> (1, 7)\n",
        "p_2 -> (4, 3)\n",
        "dist = p_1.distance(p_2)\n",
        "print(dist) ->  5.0\n",
        "```\n",
        "\n",
        "### 2.b\n",
        "\n",
        "Define a class named `Rectangle`.\n",
        "It represents a rectangle on the X-Y coordinate axis.\n",
        "\n",
        "Rectangle has 4 attributes:\n",
        "* `corner_1 (Point)`\n",
        "* `corner_2 (Point)`\n",
        "* `corner_3 (Point)`\n",
        "* `corner_4 (Point)`\n",
        "\n",
        "The type of these 4 corners are the Point class we defined in 2.a.\n",
        "\n",
        "corner_1 and corner_2 are on the same line (side).\n",
        "corner_3 and corner_4 are on the same line (side).\n",
        "\n",
        "This is how the corners look like:\n",
        "```\n",
        "1..............2\n",
        ".              .\n",
        ".              .\n",
        ".              .\n",
        "3..............4\n",
        "```\n",
        "\n",
        "The class has methods to calculate its width and length.\n",
        "  * width = distance between corner_1 and corner_2 -> `calculate_width()`\n",
        "  * length = distance between corner_1 and corner_3 -> `calculate_length()`\n",
        "\n",
        "`Rectangle` uses `Point` class to calculate these distances.\n",
        "Finally, `Rectangle` has a method which returns its area.\n",
        "The name of this method is 'area'.\n",
        "\n",
        "```\n",
        "Expected Output:\n",
        "p_1 = Point(5, 8)\n",
        "p_2 = Point(9, 8)\n",
        "p_3 = Point(5, 2)\n",
        "p_4 = Point(9, 2)\n",
        "\n",
        "width = rect.width\n",
        "length = rect.length\n",
        "area = rect.area()\n",
        "\n",
        "width: 4.0\n",
        "length: 6.0\n",
        "area: 24.0\n",
        "```"
      ],
      "metadata": {
        "id": "wXFW0Xwvwy0w"
      }
    },
    {
      "cell_type": "code",
      "source": [
        "import math\n",
        "\n",
        "class Point:\n",
        "  def __init__(self, x, y):\n",
        "    self.x = x\n",
        "    self.y = y\n",
        "  def distance (self, p_1):\n",
        "    x_diff = abs(self.x - p_1.x)\n",
        "    y_diff = abs(self.y - p_1.y)\n",
        "    d = math.sqrt(x_diff**2 + y_diff**2)\n",
        "    return d\n",
        "\n",
        "p_1 = Point(1, 7)\n",
        "p_2 = Point(4,3)\n",
        "dist = p_1.distance(p_2)\n",
        "print(\"distance = \" + str(dist))\n",
        "print()\n",
        "\n",
        "class Rectangle:\n",
        "  def __init__(self, corner_1, corner_2, corner_3, corner_4):\n",
        "    self.corner_1 = corner_1\n",
        "    self.corner_2 = corner_2\n",
        "    self.corner_3 = corner_3\n",
        "    selfcorner_4 = corner_4\n",
        "\n",
        "  def calculate_width(self):\n",
        "        w = self.corner_1.distance(self.corner_2)\n",
        "        return w\n",
        "\n",
        "  def calculate_length(self):\n",
        "      l = self.corner_1.distance(self.corner_3)\n",
        "      return l\n",
        "\n",
        "  def area(self):\n",
        "      a = self.calculate_width() * self.calculate_length()\n",
        "      return a\n",
        "\n",
        "p_1 = Point(5, 8)\n",
        "p_2 = Point(9, 8)\n",
        "p_3 = Point(5, 2)\n",
        "p_4 = Point(9, 2)\n",
        "\n",
        "rect = Rectangle(p_1, p_2, p_3, p_4)\n",
        "\n",
        "width = rect.calculate_width()\n",
        "length = rect.calculate_length()\n",
        "area = rect.area()\n",
        "\n",
        "print(\"width: \" + str(width))\n",
        "print(\"length: \" + str(length))\n",
        "print(\"area: \" + str(area))"
      ],
      "metadata": {
        "id": "1SEkpa_4ziby",
        "colab": {
          "base_uri": "https://localhost:8080/"
        },
        "outputId": "0f438732-83ee-445e-a433-8105152e3004"
      },
      "execution_count": null,
      "outputs": [
        {
          "output_type": "stream",
          "name": "stdout",
          "text": [
            "distance = 5.0\n",
            "\n",
            "width: 4.0\n",
            "length: 6.0\n",
            "area: 24.0\n"
          ]
        }
      ]
    },
    {
      "cell_type": "markdown",
      "source": [
        "## Assignment 3 - Exceptions (20 points)\n",
        "\n",
        "###3.a\n",
        "\n",
        "Define a function named \"is_list\".\n",
        "\n",
        "It will take a list as parameter.\n",
        "\n",
        "And it will check if this parameter is actually of list type or not.\n",
        "If the type of the parameter is not List, it will raise an exception as: \"The parameter type is not List.\"\n",
        "\n",
        "If the type of the parameter is List, then it will print the parameter.\n",
        "\n",
        "\n",
        "Hints:\n",
        "* assert\n",
        "* do not use try-except\n",
        "\n",
        "\n",
        "\n",
        "###3.b\n",
        "\n",
        "Define a function named 'sum_of_list'.\n",
        "\n",
        "It will take a list as parameter and calculate the sum of numbers in this list.\n",
        "\n",
        "If it encounters an error during summation, it will raise an Exception. Otherwise, it will return the summation.\n",
        "\n",
        "The exception type will be `TypeError` and the text will be the standard error text.\n",
        "\n",
        "```\n",
        "Hint:\n",
        "* try-except\n",
        "```\n",
        "\n",
        "###3.c\n",
        "\n",
        "Define a function named 'sum_of_numbers_in_list'.\n",
        "\n",
        "It will take a list as the parameter and it will add the numbers in that list.\n",
        "\n",
        "If any item is not a number it will ignore that item, but it will print a warning: \"item 'x' is not a number\"\n",
        "\n",
        "The function will return the summation result.\n",
        "\n",
        "```\n",
        "Expected Output:\n",
        "sum_of_numbers_in_list([1, 'a', 'b', 3])\n",
        "\n",
        "item a is not a number\n",
        "item b is not a number\n",
        "4\n",
        "```"
      ],
      "metadata": {
        "id": "sSwmNWH40hbh"
      }
    },
    {
      "cell_type": "code",
      "source": [
        "def is_list(parameter):\n",
        "    assert type(parameter) is list, \"This parameter is not a list.\"\n",
        "    print(parameter)\n",
        "is_list([1, 2, 3])\n",
        "\n",
        "def sum_of_list(lst):\n",
        "    try:\n",
        "        result = sum(lst)\n",
        "        return result\n",
        "    except TypeError as e:\n",
        "        raise Exception(str(e))\n",
        "\n",
        "def sum_of_numbers_in_list(lst):\n",
        "    total = 0\n",
        "    for item in lst:\n",
        "        if isinstance(item, (int, float)):\n",
        "            total += item\n",
        "        else:\n",
        "            print(\"item \" + str(item) + \" is not a number\")\n",
        "    return total\n",
        "print(sum_of_numbers_in_list([1, 'a', 'b', 3]))"
      ],
      "metadata": {
        "id": "vn6JAigk28ax",
        "colab": {
          "base_uri": "https://localhost:8080/"
        },
        "outputId": "f5f7fa67-a011-4e05-a7de-36da729af33d"
      },
      "execution_count": null,
      "outputs": [
        {
          "output_type": "stream",
          "name": "stdout",
          "text": [
            "[1, 2, 3]\n",
            "item a is not a number\n",
            "item b is not a number\n",
            "4\n"
          ]
        }
      ]
    }
  ]
}